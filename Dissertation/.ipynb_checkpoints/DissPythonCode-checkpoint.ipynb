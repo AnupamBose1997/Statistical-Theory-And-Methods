{
 "cells": [
  {
   "cell_type": "code",
   "execution_count": 2,
   "id": "5e84cfce",
   "metadata": {},
   "outputs": [],
   "source": [
    "from pandas import read_csv\n",
    "from keras.models import Sequential\n",
    "from keras.layers import Dense\n",
    "from keras.wrappers.scikit_learn import KerasRegressor\n",
    "from sklearn.model_selection import cross_val_score\n",
    "from sklearn.model_selection import KFold\n",
    "from sklearn.pipeline import Pipeline\n",
    "from sklearn.model_selection import train_test_split"
   ]
  },
  {
   "cell_type": "code",
   "execution_count": 3,
   "id": "5aef0cd6",
   "metadata": {},
   "outputs": [],
   "source": [
    "df = read_csv(\"E:/Leeds University/Dissertation/desdata.csv\", delim_whitespace=False)"
   ]
  },
  {
   "cell_type": "code",
   "execution_count": 4,
   "id": "62c16b20",
   "metadata": {},
   "outputs": [
    {
     "data": {
      "text/plain": [
       "Index(['Compound', 'G_sol', 'DeltaG_sol', 'volume', 'sol_dip', 'O_charges',\n",
       "       'C_charges', 'Most_neg', 'Most_pos', 'Het_charges', 'MW', 'SASA',\n",
       "       'LogS', 'Lsolu_Hsolv', 'Lsolv_Hsolu'],\n",
       "      dtype='object')"
      ]
     },
     "execution_count": 4,
     "metadata": {},
     "output_type": "execute_result"
    }
   ],
   "source": [
    "df.columns"
   ]
  },
  {
   "cell_type": "code",
   "execution_count": 5,
   "id": "4959e52d",
   "metadata": {},
   "outputs": [],
   "source": [
    "df = df.loc[:, df.columns != 'Compound']"
   ]
  },
  {
   "cell_type": "code",
   "execution_count": 6,
   "id": "c050b23a",
   "metadata": {},
   "outputs": [],
   "source": [
    "#Split into features and target (Price)\n",
    "X = df.drop('LogS', axis = 1)\n",
    "y = df['LogS']"
   ]
  },
  {
   "cell_type": "code",
   "execution_count": 7,
   "id": "cd607289",
   "metadata": {},
   "outputs": [],
   "source": [
    "X_train, X_test, y_train, y_test = train_test_split(X, y, test_size = 0.2, random_state = 20)"
   ]
  },
  {
   "cell_type": "code",
   "execution_count": 24,
   "id": "08490276",
   "metadata": {},
   "outputs": [],
   "source": [
    "ann_xtrain = read_csv(\"E:/Leeds University/Dissertation/ann_xtrain.csv\", delim_whitespace=False)\n",
    "ann_xtest = read_csv(\"E:/Leeds University/Dissertation/ann_xtest.csv\", delim_whitespace=False)\n",
    "ann_ytrain = read_csv(\"E:/Leeds University/Dissertation/ann_ytrain.csv\", delim_whitespace=False)\n",
    "ann_ytest = read_csv(\"E:/Leeds University/Dissertation/ann_ytest.csv\", delim_whitespace=False)"
   ]
  },
  {
   "cell_type": "code",
   "execution_count": 25,
   "id": "4022e90c",
   "metadata": {},
   "outputs": [
    {
     "data": {
      "text/plain": [
       "StandardScaler()"
      ]
     },
     "execution_count": 25,
     "metadata": {},
     "output_type": "execute_result"
    }
   ],
   "source": [
    "#Scale data, otherwise model will fail.\n",
    "#Standardize features by removing the mean and scaling to unit variance\n",
    "from sklearn.preprocessing import StandardScaler\n",
    "scaler=StandardScaler()\n",
    "scaler.fit(ann_xtrain)"
   ]
  },
  {
   "cell_type": "code",
   "execution_count": 26,
   "id": "10970afb",
   "metadata": {},
   "outputs": [],
   "source": [
    "X_train_scaled = scaler.transform(ann_xtrain)\n",
    "X_test_scaled = scaler.transform(ann_xtest)"
   ]
  },
  {
   "cell_type": "code",
   "execution_count": 27,
   "id": "500e9fdf",
   "metadata": {},
   "outputs": [
    {
     "data": {
      "text/html": [
       "<div>\n",
       "<style scoped>\n",
       "    .dataframe tbody tr th:only-of-type {\n",
       "        vertical-align: middle;\n",
       "    }\n",
       "\n",
       "    .dataframe tbody tr th {\n",
       "        vertical-align: top;\n",
       "    }\n",
       "\n",
       "    .dataframe thead th {\n",
       "        text-align: right;\n",
       "    }\n",
       "</style>\n",
       "<table border=\"1\" class=\"dataframe\">\n",
       "  <thead>\n",
       "    <tr style=\"text-align: right;\">\n",
       "      <th></th>\n",
       "      <th>LogS</th>\n",
       "    </tr>\n",
       "  </thead>\n",
       "  <tbody>\n",
       "    <tr>\n",
       "      <th>0</th>\n",
       "      <td>-4.100</td>\n",
       "    </tr>\n",
       "    <tr>\n",
       "      <th>1</th>\n",
       "      <td>-4.230</td>\n",
       "    </tr>\n",
       "    <tr>\n",
       "      <th>2</th>\n",
       "      <td>-5.510</td>\n",
       "    </tr>\n",
       "    <tr>\n",
       "      <th>3</th>\n",
       "      <td>-4.001</td>\n",
       "    </tr>\n",
       "    <tr>\n",
       "      <th>4</th>\n",
       "      <td>-3.494</td>\n",
       "    </tr>\n",
       "    <tr>\n",
       "      <th>...</th>\n",
       "      <td>...</td>\n",
       "    </tr>\n",
       "    <tr>\n",
       "      <th>263</th>\n",
       "      <td>-3.730</td>\n",
       "    </tr>\n",
       "    <tr>\n",
       "      <th>264</th>\n",
       "      <td>-4.360</td>\n",
       "    </tr>\n",
       "    <tr>\n",
       "      <th>265</th>\n",
       "      <td>-3.813</td>\n",
       "    </tr>\n",
       "    <tr>\n",
       "      <th>266</th>\n",
       "      <td>-5.680</td>\n",
       "    </tr>\n",
       "    <tr>\n",
       "      <th>267</th>\n",
       "      <td>-1.460</td>\n",
       "    </tr>\n",
       "  </tbody>\n",
       "</table>\n",
       "<p>268 rows × 1 columns</p>\n",
       "</div>"
      ],
      "text/plain": [
       "      LogS\n",
       "0   -4.100\n",
       "1   -4.230\n",
       "2   -5.510\n",
       "3   -4.001\n",
       "4   -3.494\n",
       "..     ...\n",
       "263 -3.730\n",
       "264 -4.360\n",
       "265 -3.813\n",
       "266 -5.680\n",
       "267 -1.460\n",
       "\n",
       "[268 rows x 1 columns]"
      ]
     },
     "execution_count": 27,
     "metadata": {},
     "output_type": "execute_result"
    }
   ],
   "source": [
    "ann_ytest"
   ]
  },
  {
   "cell_type": "code",
   "execution_count": 28,
   "id": "24b72a85",
   "metadata": {},
   "outputs": [
    {
     "name": "stdout",
     "output_type": "stream",
     "text": [
      "Model: \"sequential_1\"\n",
      "_________________________________________________________________\n",
      " Layer (type)                Output Shape              Param #   \n",
      "=================================================================\n",
      " dense_3 (Dense)             (None, 128)               1792      \n",
      "                                                                 \n",
      " dense_4 (Dense)             (None, 64)                8256      \n",
      "                                                                 \n",
      " dense_5 (Dense)             (None, 1)                 65        \n",
      "                                                                 \n",
      "=================================================================\n",
      "Total params: 10,113\n",
      "Trainable params: 10,113\n",
      "Non-trainable params: 0\n",
      "_________________________________________________________________\n"
     ]
    }
   ],
   "source": [
    "# define the model\n",
    "#Experiment with deeper and wider networks\n",
    "model = Sequential()\n",
    "model.add(Dense(128, input_dim=13, activation='relu'))\n",
    "model.add(Dense(64, activation='relu'))\n",
    "#Output layer\n",
    "model.add(Dense(1, activation='linear'))\n",
    "\n",
    "model.compile(loss='mean_squared_error', optimizer='adam', metrics=['mae'])\n",
    "model.summary()"
   ]
  },
  {
   "cell_type": "code",
   "execution_count": 29,
   "id": "206609d5",
   "metadata": {},
   "outputs": [
    {
     "name": "stdout",
     "output_type": "stream",
     "text": [
      "Epoch 1/100\n",
      "16/16 [==============================] - 1s 14ms/step - loss: 10.2245 - mae: 2.5869 - val_loss: 6.2698 - val_mae: 1.9309\n",
      "Epoch 2/100\n",
      "16/16 [==============================] - 0s 4ms/step - loss: 3.7845 - mae: 1.5788 - val_loss: 2.6435 - val_mae: 1.2883\n",
      "Epoch 3/100\n",
      "16/16 [==============================] - 0s 3ms/step - loss: 2.3346 - mae: 1.1687 - val_loss: 1.9561 - val_mae: 1.0670\n",
      "Epoch 4/100\n",
      "16/16 [==============================] - 0s 3ms/step - loss: 1.8414 - mae: 1.0572 - val_loss: 1.7799 - val_mae: 1.0304\n",
      "Epoch 5/100\n",
      "16/16 [==============================] - 0s 4ms/step - loss: 1.6191 - mae: 0.9707 - val_loss: 1.6034 - val_mae: 0.9805\n",
      "Epoch 6/100\n",
      "16/16 [==============================] - 0s 3ms/step - loss: 1.4696 - mae: 0.9154 - val_loss: 1.4832 - val_mae: 0.9417\n",
      "Epoch 7/100\n",
      "16/16 [==============================] - 0s 3ms/step - loss: 1.3415 - mae: 0.8735 - val_loss: 1.4504 - val_mae: 0.9341\n",
      "Epoch 8/100\n",
      "16/16 [==============================] - 0s 4ms/step - loss: 1.2572 - mae: 0.8458 - val_loss: 1.4102 - val_mae: 0.9255\n",
      "Epoch 9/100\n",
      "16/16 [==============================] - 0s 4ms/step - loss: 1.2108 - mae: 0.8191 - val_loss: 1.4249 - val_mae: 0.9181\n",
      "Epoch 10/100\n",
      "16/16 [==============================] - 0s 4ms/step - loss: 1.1339 - mae: 0.7929 - val_loss: 1.3525 - val_mae: 0.8969\n",
      "Epoch 11/100\n",
      "16/16 [==============================] - 0s 3ms/step - loss: 1.0833 - mae: 0.7679 - val_loss: 1.3271 - val_mae: 0.8839\n",
      "Epoch 12/100\n",
      "16/16 [==============================] - 0s 3ms/step - loss: 1.0500 - mae: 0.7613 - val_loss: 1.2970 - val_mae: 0.8725\n",
      "Epoch 13/100\n",
      "16/16 [==============================] - 0s 3ms/step - loss: 1.0189 - mae: 0.7440 - val_loss: 1.2867 - val_mae: 0.8652\n",
      "Epoch 14/100\n",
      "16/16 [==============================] - 0s 3ms/step - loss: 0.9796 - mae: 0.7256 - val_loss: 1.2901 - val_mae: 0.8620\n",
      "Epoch 15/100\n",
      "16/16 [==============================] - 0s 3ms/step - loss: 0.9507 - mae: 0.7236 - val_loss: 1.2512 - val_mae: 0.8455\n",
      "Epoch 16/100\n",
      "16/16 [==============================] - 0s 3ms/step - loss: 0.9246 - mae: 0.7066 - val_loss: 1.2737 - val_mae: 0.8527\n",
      "Epoch 17/100\n",
      "16/16 [==============================] - 0s 4ms/step - loss: 0.8882 - mae: 0.6945 - val_loss: 1.2336 - val_mae: 0.8356\n",
      "Epoch 18/100\n",
      "16/16 [==============================] - 0s 4ms/step - loss: 0.8775 - mae: 0.6899 - val_loss: 1.2282 - val_mae: 0.8288\n",
      "Epoch 19/100\n",
      "16/16 [==============================] - 0s 3ms/step - loss: 0.8426 - mae: 0.6685 - val_loss: 1.2237 - val_mae: 0.8261\n",
      "Epoch 20/100\n",
      "16/16 [==============================] - 0s 3ms/step - loss: 0.8186 - mae: 0.6697 - val_loss: 1.2006 - val_mae: 0.8157\n",
      "Epoch 21/100\n",
      "16/16 [==============================] - 0s 3ms/step - loss: 0.8043 - mae: 0.6544 - val_loss: 1.2211 - val_mae: 0.8212\n",
      "Epoch 22/100\n",
      "16/16 [==============================] - 0s 4ms/step - loss: 0.7803 - mae: 0.6508 - val_loss: 1.1912 - val_mae: 0.8090\n",
      "Epoch 23/100\n",
      "16/16 [==============================] - 0s 3ms/step - loss: 0.7586 - mae: 0.6405 - val_loss: 1.2120 - val_mae: 0.8111\n",
      "Epoch 24/100\n",
      "16/16 [==============================] - 0s 3ms/step - loss: 0.7482 - mae: 0.6299 - val_loss: 1.2143 - val_mae: 0.8263\n",
      "Epoch 25/100\n",
      "16/16 [==============================] - 0s 3ms/step - loss: 0.7436 - mae: 0.6420 - val_loss: 1.1716 - val_mae: 0.7962\n",
      "Epoch 26/100\n",
      "16/16 [==============================] - 0s 3ms/step - loss: 0.7092 - mae: 0.6216 - val_loss: 1.1767 - val_mae: 0.7972\n",
      "Epoch 27/100\n",
      "16/16 [==============================] - 0s 3ms/step - loss: 0.6778 - mae: 0.6006 - val_loss: 1.1634 - val_mae: 0.7997\n",
      "Epoch 28/100\n",
      "16/16 [==============================] - 0s 3ms/step - loss: 0.6757 - mae: 0.6076 - val_loss: 1.1440 - val_mae: 0.7921\n",
      "Epoch 29/100\n",
      "16/16 [==============================] - 0s 3ms/step - loss: 0.6715 - mae: 0.6044 - val_loss: 1.1708 - val_mae: 0.7847\n",
      "Epoch 30/100\n",
      "16/16 [==============================] - 0s 4ms/step - loss: 0.6488 - mae: 0.6018 - val_loss: 1.1214 - val_mae: 0.7768\n",
      "Epoch 31/100\n",
      "16/16 [==============================] - 0s 4ms/step - loss: 0.6312 - mae: 0.5797 - val_loss: 1.1880 - val_mae: 0.7939\n",
      "Epoch 32/100\n",
      "16/16 [==============================] - 0s 4ms/step - loss: 0.6303 - mae: 0.5821 - val_loss: 1.1267 - val_mae: 0.7926\n",
      "Epoch 33/100\n",
      "16/16 [==============================] - 0s 4ms/step - loss: 0.6110 - mae: 0.5749 - val_loss: 1.1617 - val_mae: 0.7900\n",
      "Epoch 34/100\n",
      "16/16 [==============================] - 0s 3ms/step - loss: 0.5835 - mae: 0.5647 - val_loss: 1.1096 - val_mae: 0.7787\n",
      "Epoch 35/100\n",
      "16/16 [==============================] - 0s 4ms/step - loss: 0.5693 - mae: 0.5511 - val_loss: 1.1115 - val_mae: 0.7805\n",
      "Epoch 36/100\n",
      "16/16 [==============================] - 0s 3ms/step - loss: 0.5700 - mae: 0.5539 - val_loss: 1.1256 - val_mae: 0.7775\n",
      "Epoch 37/100\n",
      "16/16 [==============================] - 0s 3ms/step - loss: 0.5654 - mae: 0.5534 - val_loss: 1.0879 - val_mae: 0.7662\n",
      "Epoch 38/100\n",
      "16/16 [==============================] - 0s 3ms/step - loss: 0.5652 - mae: 0.5474 - val_loss: 1.0972 - val_mae: 0.7802\n",
      "Epoch 39/100\n",
      "16/16 [==============================] - 0s 4ms/step - loss: 0.5322 - mae: 0.5407 - val_loss: 1.0821 - val_mae: 0.7649\n",
      "Epoch 40/100\n",
      "16/16 [==============================] - 0s 4ms/step - loss: 0.5333 - mae: 0.5377 - val_loss: 1.1099 - val_mae: 0.7734\n",
      "Epoch 41/100\n",
      "16/16 [==============================] - 0s 3ms/step - loss: 0.5151 - mae: 0.5295 - val_loss: 1.0997 - val_mae: 0.7742\n",
      "Epoch 42/100\n",
      "16/16 [==============================] - 0s 3ms/step - loss: 0.5050 - mae: 0.5283 - val_loss: 1.0970 - val_mae: 0.7630\n",
      "Epoch 43/100\n",
      "16/16 [==============================] - 0s 3ms/step - loss: 0.4890 - mae: 0.5190 - val_loss: 1.0599 - val_mae: 0.7580\n",
      "Epoch 44/100\n",
      "16/16 [==============================] - 0s 4ms/step - loss: 0.4813 - mae: 0.5145 - val_loss: 1.1118 - val_mae: 0.7710\n",
      "Epoch 45/100\n",
      "16/16 [==============================] - 0s 4ms/step - loss: 0.4702 - mae: 0.5074 - val_loss: 1.0602 - val_mae: 0.7592\n",
      "Epoch 46/100\n",
      "16/16 [==============================] - 0s 4ms/step - loss: 0.4638 - mae: 0.5002 - val_loss: 1.0431 - val_mae: 0.7527\n",
      "Epoch 47/100\n",
      "16/16 [==============================] - 0s 3ms/step - loss: 0.4497 - mae: 0.4932 - val_loss: 1.0336 - val_mae: 0.7456\n",
      "Epoch 48/100\n",
      "16/16 [==============================] - 0s 3ms/step - loss: 0.4422 - mae: 0.4889 - val_loss: 1.0089 - val_mae: 0.7363\n",
      "Epoch 49/100\n",
      "16/16 [==============================] - 0s 3ms/step - loss: 0.4552 - mae: 0.4950 - val_loss: 1.1088 - val_mae: 0.7805\n",
      "Epoch 50/100\n",
      "16/16 [==============================] - 0s 3ms/step - loss: 0.4617 - mae: 0.4991 - val_loss: 1.0205 - val_mae: 0.7516\n",
      "Epoch 51/100\n",
      "16/16 [==============================] - 0s 3ms/step - loss: 0.4190 - mae: 0.4799 - val_loss: 1.0400 - val_mae: 0.7483\n",
      "Epoch 52/100\n",
      "16/16 [==============================] - 0s 3ms/step - loss: 0.4135 - mae: 0.4817 - val_loss: 1.0732 - val_mae: 0.7658\n",
      "Epoch 53/100\n",
      "16/16 [==============================] - 0s 4ms/step - loss: 0.4242 - mae: 0.4866 - val_loss: 1.0722 - val_mae: 0.7565\n",
      "Epoch 54/100\n",
      "16/16 [==============================] - 0s 3ms/step - loss: 0.3894 - mae: 0.4645 - val_loss: 1.0323 - val_mae: 0.7553\n",
      "Epoch 55/100\n",
      "16/16 [==============================] - 0s 3ms/step - loss: 0.3938 - mae: 0.4654 - val_loss: 0.9981 - val_mae: 0.7394\n",
      "Epoch 56/100\n",
      "16/16 [==============================] - 0s 3ms/step - loss: 0.3854 - mae: 0.4615 - val_loss: 1.0257 - val_mae: 0.7436\n",
      "Epoch 57/100\n",
      "16/16 [==============================] - 0s 3ms/step - loss: 0.3769 - mae: 0.4542 - val_loss: 1.0300 - val_mae: 0.7426\n",
      "Epoch 58/100\n",
      "16/16 [==============================] - 0s 3ms/step - loss: 0.3815 - mae: 0.4563 - val_loss: 1.0516 - val_mae: 0.7550\n",
      "Epoch 59/100\n",
      "16/16 [==============================] - 0s 3ms/step - loss: 0.3645 - mae: 0.4546 - val_loss: 0.9967 - val_mae: 0.7290\n",
      "Epoch 60/100\n",
      "16/16 [==============================] - 0s 4ms/step - loss: 0.3550 - mae: 0.4449 - val_loss: 1.0194 - val_mae: 0.7536\n",
      "Epoch 61/100\n",
      "16/16 [==============================] - 0s 4ms/step - loss: 0.3448 - mae: 0.4378 - val_loss: 0.9908 - val_mae: 0.7310\n",
      "Epoch 62/100\n",
      "16/16 [==============================] - 0s 5ms/step - loss: 0.3372 - mae: 0.4339 - val_loss: 0.9950 - val_mae: 0.7367\n",
      "Epoch 63/100\n"
     ]
    },
    {
     "name": "stdout",
     "output_type": "stream",
     "text": [
      "16/16 [==============================] - 0s 3ms/step - loss: 0.3319 - mae: 0.4314 - val_loss: 0.9779 - val_mae: 0.7269\n",
      "Epoch 64/100\n",
      "16/16 [==============================] - 0s 3ms/step - loss: 0.3414 - mae: 0.4397 - val_loss: 1.0204 - val_mae: 0.7309\n",
      "Epoch 65/100\n",
      "16/16 [==============================] - 0s 3ms/step - loss: 0.3436 - mae: 0.4369 - val_loss: 1.0237 - val_mae: 0.7328\n",
      "Epoch 66/100\n",
      "16/16 [==============================] - 0s 3ms/step - loss: 0.3206 - mae: 0.4185 - val_loss: 0.9788 - val_mae: 0.7193\n",
      "Epoch 67/100\n",
      "16/16 [==============================] - 0s 3ms/step - loss: 0.3110 - mae: 0.4169 - val_loss: 1.0206 - val_mae: 0.7294\n",
      "Epoch 68/100\n",
      "16/16 [==============================] - 0s 3ms/step - loss: 0.3122 - mae: 0.4252 - val_loss: 0.9867 - val_mae: 0.7117\n",
      "Epoch 69/100\n",
      "16/16 [==============================] - 0s 4ms/step - loss: 0.2976 - mae: 0.4088 - val_loss: 0.9851 - val_mae: 0.7202\n",
      "Epoch 70/100\n",
      "16/16 [==============================] - 0s 4ms/step - loss: 0.2917 - mae: 0.4038 - val_loss: 0.9722 - val_mae: 0.7120\n",
      "Epoch 71/100\n",
      "16/16 [==============================] - 0s 4ms/step - loss: 0.2888 - mae: 0.4030 - val_loss: 0.9926 - val_mae: 0.7162\n",
      "Epoch 72/100\n",
      "16/16 [==============================] - 0s 3ms/step - loss: 0.2848 - mae: 0.3990 - val_loss: 1.0644 - val_mae: 0.7365\n",
      "Epoch 73/100\n",
      "16/16 [==============================] - 0s 3ms/step - loss: 0.2862 - mae: 0.4012 - val_loss: 1.1012 - val_mae: 0.7755\n",
      "Epoch 74/100\n",
      "16/16 [==============================] - 0s 3ms/step - loss: 0.2992 - mae: 0.4096 - val_loss: 0.9989 - val_mae: 0.7192\n",
      "Epoch 75/100\n",
      "16/16 [==============================] - 0s 3ms/step - loss: 0.2800 - mae: 0.4022 - val_loss: 0.9917 - val_mae: 0.7152\n",
      "Epoch 76/100\n",
      "16/16 [==============================] - 0s 4ms/step - loss: 0.2607 - mae: 0.3859 - val_loss: 0.9352 - val_mae: 0.6960\n",
      "Epoch 77/100\n",
      "16/16 [==============================] - 0s 4ms/step - loss: 0.2600 - mae: 0.3819 - val_loss: 1.0020 - val_mae: 0.7213\n",
      "Epoch 78/100\n",
      "16/16 [==============================] - 0s 4ms/step - loss: 0.2592 - mae: 0.3834 - val_loss: 0.9774 - val_mae: 0.7132\n",
      "Epoch 79/100\n",
      "16/16 [==============================] - 0s 4ms/step - loss: 0.2564 - mae: 0.3847 - val_loss: 0.9173 - val_mae: 0.6815\n",
      "Epoch 80/100\n",
      "16/16 [==============================] - 0s 3ms/step - loss: 0.2529 - mae: 0.3820 - val_loss: 1.0065 - val_mae: 0.7349\n",
      "Epoch 81/100\n",
      "16/16 [==============================] - 0s 3ms/step - loss: 0.2479 - mae: 0.3799 - val_loss: 0.9981 - val_mae: 0.7264\n",
      "Epoch 82/100\n",
      "16/16 [==============================] - 0s 3ms/step - loss: 0.2593 - mae: 0.3756 - val_loss: 1.0026 - val_mae: 0.7432\n",
      "Epoch 83/100\n",
      "16/16 [==============================] - 0s 3ms/step - loss: 0.2639 - mae: 0.3922 - val_loss: 0.9543 - val_mae: 0.7063\n",
      "Epoch 84/100\n",
      "16/16 [==============================] - 0s 3ms/step - loss: 0.2430 - mae: 0.3743 - val_loss: 0.9580 - val_mae: 0.7006\n",
      "Epoch 85/100\n",
      "16/16 [==============================] - 0s 3ms/step - loss: 0.2551 - mae: 0.3821 - val_loss: 1.0087 - val_mae: 0.7078\n",
      "Epoch 86/100\n",
      "16/16 [==============================] - 0s 3ms/step - loss: 0.2318 - mae: 0.3660 - val_loss: 1.0113 - val_mae: 0.7255\n",
      "Epoch 87/100\n",
      "16/16 [==============================] - 0s 3ms/step - loss: 0.2290 - mae: 0.3686 - val_loss: 0.9651 - val_mae: 0.7033\n",
      "Epoch 88/100\n",
      "16/16 [==============================] - 0s 3ms/step - loss: 0.2098 - mae: 0.3429 - val_loss: 1.0140 - val_mae: 0.7278\n",
      "Epoch 89/100\n",
      "16/16 [==============================] - 0s 3ms/step - loss: 0.2182 - mae: 0.3531 - val_loss: 0.9578 - val_mae: 0.7062\n",
      "Epoch 90/100\n",
      "16/16 [==============================] - 0s 3ms/step - loss: 0.2122 - mae: 0.3460 - val_loss: 0.9954 - val_mae: 0.7013\n",
      "Epoch 91/100\n",
      "16/16 [==============================] - 0s 3ms/step - loss: 0.2462 - mae: 0.3634 - val_loss: 0.9926 - val_mae: 0.7044\n",
      "Epoch 92/100\n",
      "16/16 [==============================] - 0s 3ms/step - loss: 0.2090 - mae: 0.3455 - val_loss: 0.9685 - val_mae: 0.7009\n",
      "Epoch 93/100\n",
      "16/16 [==============================] - 0s 3ms/step - loss: 0.1968 - mae: 0.3302 - val_loss: 0.9797 - val_mae: 0.6957\n",
      "Epoch 94/100\n",
      "16/16 [==============================] - 0s 3ms/step - loss: 0.1928 - mae: 0.3259 - val_loss: 0.9886 - val_mae: 0.7137\n",
      "Epoch 95/100\n",
      "16/16 [==============================] - 0s 3ms/step - loss: 0.1919 - mae: 0.3291 - val_loss: 0.9906 - val_mae: 0.7252\n",
      "Epoch 96/100\n",
      "16/16 [==============================] - 0s 3ms/step - loss: 0.1913 - mae: 0.3290 - val_loss: 0.9697 - val_mae: 0.6845\n",
      "Epoch 97/100\n",
      "16/16 [==============================] - 0s 3ms/step - loss: 0.1898 - mae: 0.3290 - val_loss: 0.9856 - val_mae: 0.7128\n",
      "Epoch 98/100\n",
      "16/16 [==============================] - 0s 3ms/step - loss: 0.1948 - mae: 0.3395 - val_loss: 0.9952 - val_mae: 0.7000\n",
      "Epoch 99/100\n",
      "16/16 [==============================] - 0s 3ms/step - loss: 0.2026 - mae: 0.3411 - val_loss: 0.9235 - val_mae: 0.6702\n",
      "Epoch 100/100\n",
      "16/16 [==============================] - 0s 3ms/step - loss: 0.2068 - mae: 0.3544 - val_loss: 1.0033 - val_mae: 0.7247\n"
     ]
    }
   ],
   "source": [
    "history = model.fit(X_train_scaled, ann_ytrain, validation_split=0.2, epochs =100)"
   ]
  },
  {
   "cell_type": "code",
   "execution_count": 30,
   "id": "5d11c4fb",
   "metadata": {},
   "outputs": [
    {
     "data": {
      "image/png": "[encoded data removed]",
      "text/plain": [
       "<Figure size 432x288 with 1 Axes>"
      ]
     },
     "metadata": {
      "needs_background": "light"
     },
     "output_type": "display_data"
    }
   ],
   "source": [
    "from matplotlib import pyplot as plt\n",
    "#plot the training and validation accuracy and loss at each epoch\n",
    "loss = history.history['loss']\n",
    "val_loss = history.history['val_loss']\n",
    "epochs = range(1, len(loss) + 1)\n",
    "plt.plot(epochs, loss, 'y', label='Training loss')\n",
    "plt.plot(epochs, val_loss, 'r', label='Validation loss')\n",
    "plt.title('Training and validation loss')\n",
    "plt.xlabel('Epochs')\n",
    "plt.ylabel('Loss')\n",
    "plt.legend()\n",
    "plt.show()"
   ]
  },
  {
   "cell_type": "code",
   "execution_count": 38,
   "id": "3016a70d",
   "metadata": {},
   "outputs": [
    {
     "name": "stdout",
     "output_type": "stream",
     "text": [
      "Predicted values are:  [ -2.92077905  -3.66828076  -5.23971217  -3.15884715  -3.16491307\n",
      "  -4.4466909   -2.82857242  -2.34594697  -3.76307919  -4.07854425\n",
      "  -3.01488488  -1.60055565  -0.69878049  -0.29589063  -2.65751968\n",
      "  -4.43457486  -2.431158    -2.32770961   0.17601953  -0.3419728\n",
      "  -2.91333984  -6.11093524  -6.78434512  -3.84512786  -0.68547613\n",
      "  -4.84210637  -3.40458779  -1.98405517  -6.77506748  -3.03588964\n",
      "  -2.14526755  -2.98588001  -3.82050049  -0.56556705  -0.44415621\n",
      "  -0.54328304  -3.94794057  -5.25062457  -2.76682529  -3.32023714\n",
      "  -2.86338241  -2.26325104  -1.81823806  -8.49030548  -2.78033\n",
      "  -3.5495207   -3.34538857  -1.94574139  -2.80708241  -3.15653275\n",
      "  -4.984813    -2.34482462 -10.9845985   -0.5837452   -3.35496628\n",
      "   0.08622565   0.7298612   -4.85439484  -8.08068238  -4.60447619\n",
      "  -0.19439875  -3.61543612  -1.48922091  -4.94442465   0.11840123\n",
      "  -7.368361    -3.03242156  -0.57564734  -5.57898177  -0.79874906\n",
      "  -5.66097939  -6.61929693  -8.02293156  -4.21743126  -2.99605131\n",
      "  -3.34561194  -4.84470083  -0.46445673  -8.2326232   -0.86509946\n",
      "   0.66088685  -5.24553238  -0.37421031  -2.86767792   0.2199205\n",
      "  -0.30627747  -3.21097851  -5.10771835  -0.28119641  -0.45568934\n",
      "  -2.65404778  -4.56676388  -1.09383145  -4.88079501  -4.68075394\n",
      "  -2.96800753  -7.25880924  -0.71678417  -4.92114558  -2.81097271\n",
      "  -5.09125155  -4.93584229  -0.49807765   0.42299443   0.39986632\n",
      "  -2.01995154  -4.891774    -2.87191854  -2.13839608   0.04206339\n",
      "  -5.28284609  -0.16438199  -1.34703566  -4.00336136  -1.82360215\n",
      "  -0.1947875   -1.62744008  -4.06670188  -5.37374103   0.01116125\n",
      "  -5.61793441  -3.80204076  -3.87866134  -1.20150398  -2.62942785\n",
      "  -2.34827529  -5.42510952  -4.20831139  -0.15233046   0.84468958\n",
      "  -6.34965259  -3.9466997   -4.31297456  -1.26376699  -1.09290275\n",
      "  -0.239875     0.05097047  -1.21319562  -0.05876698  -2.99972235\n",
      "  -6.46671273  -4.90016956  -2.8704023   -2.14371475  -4.26646238\n",
      "  -4.71919012  -4.83113408  -2.86764202  -0.66786551  -2.97534165\n",
      "  -0.0563261   -4.4197624   -7.94858002  -3.37386678  -2.99053262\n",
      "  -3.98355505  -3.37251686  -3.24545967  -2.36382972  -2.83127092\n",
      "   0.1930023   -1.3662342   -0.17597069  -3.68393447  -1.99015424\n",
      "  -2.90249886  -2.60693089  -5.17293374  -2.4141719   -2.66659857\n",
      "  -5.45927192  -0.37748982  -3.70487604  -6.70887634  -3.04510944\n",
      "  -3.56866752  -4.48888584  -3.77679874  -4.2012488   -3.43037255\n",
      "  -3.72930658  -4.04347302  -3.55739811  -2.20044297  -4.46739625\n",
      "   0.1838647   -2.23446242  -7.53611387  -5.13977137  -4.13612085\n",
      "  -1.35647645  -1.61594932  -5.2377149   -3.8443401   -1.90556175\n",
      "  -0.47653415  -2.50713227  -7.73234172  -1.29481608  -2.78821448\n",
      "  -3.10741001  -4.41768975  -0.26805296  -4.45059849   0.38281033\n",
      "  -0.93979049  -3.30766066  -3.97467466  -3.0572305    0.35676817\n",
      "  -0.58562115  -1.961258    -3.26262666  -3.00382572  -4.16555201\n",
      "  -4.73200793  -4.30501466  -2.01256861  -2.05120581   0.45529494\n",
      "  -2.21682829  -5.50356679  -3.17626534  -0.33436057  -3.29057964\n",
      "  -0.11236146  -3.79526749  -3.34054632  -2.99827736  -0.69636208\n",
      "  -0.3103957   -1.6867454   -1.45606197  -0.55910143  -1.05213799\n",
      "  -3.056666    -3.70401894  -0.65136292  -4.46411954  -3.91067609\n",
      "  -4.09244396  -4.46234665  -3.13918014  -3.17907756  -3.6026134\n",
      "  -3.11899722  -0.93507623  -4.40247244  -2.73302868  -1.76851449\n",
      "  -1.53287805  -2.28343514  -2.6952392   -3.17646047  -3.00295757\n",
      "  -2.73317205  -2.17313568  -3.41215937  -3.84853107  -3.77821827\n",
      "  -2.32193124  -0.67339682  -3.84899315  -3.67165799  -3.34584556\n",
      "  -2.41344166  -5.37052817  -2.85570173]\n",
      "Real values are:        LogS\n",
      "0   -4.100\n",
      "1   -4.230\n",
      "2   -5.510\n",
      "3   -4.001\n",
      "4   -3.494\n",
      "..     ...\n",
      "263 -3.730\n",
      "264 -4.360\n",
      "265 -3.813\n",
      "266 -5.680\n",
      "267 -1.460\n",
      "\n",
      "[268 rows x 1 columns]\n"
     ]
    }
   ],
   "source": [
    "#Predict on test data\n",
    "predictions = model.predict(X_test_scaled[:])\n",
    "print(\"Predicted values are: \", predictions)\n",
    "print(\"Real values are: \", ann_ytest[:])"
   ]
  },
  {
   "cell_type": "code",
   "execution_count": 39,
   "id": "0bd07db7",
   "metadata": {},
   "outputs": [
    {
     "data": {
      "text/plain": [
       "array([ -2.92077905,  -3.66828076,  -5.23971217,  -3.15884715,\n",
       "        -3.16491307,  -4.4466909 ,  -2.82857242,  -2.34594697,\n",
       "        -3.76307919,  -4.07854425,  -3.01488488,  -1.60055565,\n",
       "        -0.69878049,  -0.29589063,  -2.65751968,  -4.43457486,\n",
       "        -2.431158  ,  -2.32770961,   0.17601953,  -0.3419728 ,\n",
       "        -2.91333984,  -6.11093524,  -6.78434512,  -3.84512786,\n",
       "        -0.68547613,  -4.84210637,  -3.40458779,  -1.98405517,\n",
       "        -6.77506748,  -3.03588964,  -2.14526755,  -2.98588001,\n",
       "        -3.82050049,  -0.56556705,  -0.44415621,  -0.54328304,\n",
       "        -3.94794057,  -5.25062457,  -2.76682529,  -3.32023714,\n",
       "        -2.86338241,  -2.26325104,  -1.81823806,  -8.49030548,\n",
       "        -2.78033   ,  -3.5495207 ,  -3.34538857,  -1.94574139,\n",
       "        -2.80708241,  -3.15653275,  -4.984813  ,  -2.34482462,\n",
       "       -10.9845985 ,  -0.5837452 ,  -3.35496628,   0.08622565,\n",
       "         0.7298612 ,  -4.85439484,  -8.08068238,  -4.60447619,\n",
       "        -0.19439875,  -3.61543612,  -1.48922091,  -4.94442465,\n",
       "         0.11840123,  -7.368361  ,  -3.03242156,  -0.57564734,\n",
       "        -5.57898177,  -0.79874906,  -5.66097939,  -6.61929693,\n",
       "        -8.02293156,  -4.21743126,  -2.99605131,  -3.34561194,\n",
       "        -4.84470083,  -0.46445673,  -8.2326232 ,  -0.86509946,\n",
       "         0.66088685,  -5.24553238,  -0.37421031,  -2.86767792,\n",
       "         0.2199205 ,  -0.30627747,  -3.21097851,  -5.10771835,\n",
       "        -0.28119641,  -0.45568934,  -2.65404778,  -4.56676388,\n",
       "        -1.09383145,  -4.88079501,  -4.68075394,  -2.96800753,\n",
       "        -7.25880924,  -0.71678417,  -4.92114558,  -2.81097271,\n",
       "        -5.09125155,  -4.93584229,  -0.49807765,   0.42299443,\n",
       "         0.39986632,  -2.01995154,  -4.891774  ,  -2.87191854,\n",
       "        -2.13839608,   0.04206339,  -5.28284609,  -0.16438199,\n",
       "        -1.34703566,  -4.00336136,  -1.82360215,  -0.1947875 ,\n",
       "        -1.62744008,  -4.06670188,  -5.37374103,   0.01116125,\n",
       "        -5.61793441,  -3.80204076,  -3.87866134,  -1.20150398,\n",
       "        -2.62942785,  -2.34827529,  -5.42510952,  -4.20831139,\n",
       "        -0.15233046,   0.84468958,  -6.34965259,  -3.9466997 ,\n",
       "        -4.31297456,  -1.26376699,  -1.09290275,  -0.239875  ,\n",
       "         0.05097047,  -1.21319562,  -0.05876698,  -2.99972235,\n",
       "        -6.46671273,  -4.90016956,  -2.8704023 ,  -2.14371475,\n",
       "        -4.26646238,  -4.71919012,  -4.83113408,  -2.86764202,\n",
       "        -0.66786551,  -2.97534165,  -0.0563261 ,  -4.4197624 ,\n",
       "        -7.94858002,  -3.37386678,  -2.99053262,  -3.98355505,\n",
       "        -3.37251686,  -3.24545967,  -2.36382972,  -2.83127092,\n",
       "         0.1930023 ,  -1.3662342 ,  -0.17597069,  -3.68393447,\n",
       "        -1.99015424,  -2.90249886,  -2.60693089,  -5.17293374,\n",
       "        -2.4141719 ,  -2.66659857,  -5.45927192,  -0.37748982,\n",
       "        -3.70487604,  -6.70887634,  -3.04510944,  -3.56866752,\n",
       "        -4.48888584,  -3.77679874,  -4.2012488 ,  -3.43037255,\n",
       "        -3.72930658,  -4.04347302,  -3.55739811,  -2.20044297,\n",
       "        -4.46739625,   0.1838647 ,  -2.23446242,  -7.53611387,\n",
       "        -5.13977137,  -4.13612085,  -1.35647645,  -1.61594932,\n",
       "        -5.2377149 ,  -3.8443401 ,  -1.90556175,  -0.47653415,\n",
       "        -2.50713227,  -7.73234172,  -1.29481608,  -2.78821448,\n",
       "        -3.10741001,  -4.41768975,  -0.26805296,  -4.45059849,\n",
       "         0.38281033,  -0.93979049,  -3.30766066,  -3.97467466,\n",
       "        -3.0572305 ,   0.35676817,  -0.58562115,  -1.961258  ,\n",
       "        -3.26262666,  -3.00382572,  -4.16555201,  -4.73200793,\n",
       "        -4.30501466,  -2.01256861,  -2.05120581,   0.45529494,\n",
       "        -2.21682829,  -5.50356679,  -3.17626534,  -0.33436057,\n",
       "        -3.29057964,  -0.11236146,  -3.79526749,  -3.34054632,\n",
       "        -2.99827736,  -0.69636208,  -0.3103957 ,  -1.6867454 ,\n",
       "        -1.45606197,  -0.55910143,  -1.05213799,  -3.056666  ,\n",
       "        -3.70401894,  -0.65136292,  -4.46411954,  -3.91067609,\n",
       "        -4.09244396,  -4.46234665,  -3.13918014,  -3.17907756,\n",
       "        -3.6026134 ,  -3.11899722,  -0.93507623,  -4.40247244,\n",
       "        -2.73302868,  -1.76851449,  -1.53287805,  -2.28343514,\n",
       "        -2.6952392 ,  -3.17646047,  -3.00295757,  -2.73317205,\n",
       "        -2.17313568,  -3.41215937,  -3.84853107,  -3.77821827,\n",
       "        -2.32193124,  -0.67339682,  -3.84899315,  -3.67165799,\n",
       "        -3.34584556,  -2.41344166,  -5.37052817,  -2.85570173])"
      ]
     },
     "execution_count": 39,
     "metadata": {},
     "output_type": "execute_result"
    }
   ],
   "source": [
    "predictions"
   ]
  },
  {
   "cell_type": "code",
   "execution_count": 41,
   "id": "14795576",
   "metadata": {},
   "outputs": [],
   "source": [
    "ann_prediction = pd.DataFrame(predictions, columns=['LogS']).to_csv('E:/Leeds University/Dissertation/ann_prediction.csv')"
   ]
  },
  {
   "cell_type": "code",
   "execution_count": 42,
   "id": "340d1a30",
   "metadata": {},
   "outputs": [
    {
     "ename": "AttributeError",
     "evalue": "'RandomForestRegressor' object has no attribute 'evaluate'",
     "output_type": "error",
     "traceback": [
      "\u001b[1;31m---------------------------------------------------------------------------\u001b[0m",
      "\u001b[1;31mAttributeError\u001b[0m                            Traceback (most recent call last)",
      "\u001b[1;32m<ipython-input-42-de067aa48c70>\u001b[0m in \u001b[0;36m<module>\u001b[1;34m\u001b[0m\n\u001b[0;32m      1\u001b[0m \u001b[1;31m#Comparison with other models..\u001b[0m\u001b[1;33m\u001b[0m\u001b[1;33m\u001b[0m\u001b[1;33m\u001b[0m\u001b[0m\n\u001b[0;32m      2\u001b[0m \u001b[1;31m#Neural network - from the current code\u001b[0m\u001b[1;33m\u001b[0m\u001b[1;33m\u001b[0m\u001b[1;33m\u001b[0m\u001b[0m\n\u001b[1;32m----> 3\u001b[1;33m \u001b[0mmse_neural\u001b[0m\u001b[1;33m,\u001b[0m \u001b[0mmae_neural\u001b[0m \u001b[1;33m=\u001b[0m \u001b[0mmodel\u001b[0m\u001b[1;33m.\u001b[0m\u001b[0mevaluate\u001b[0m\u001b[1;33m(\u001b[0m\u001b[0mX_test_scaled\u001b[0m\u001b[1;33m,\u001b[0m \u001b[0mann_ytest\u001b[0m\u001b[1;33m)\u001b[0m\u001b[1;33m\u001b[0m\u001b[1;33m\u001b[0m\u001b[0m\n\u001b[0m\u001b[0;32m      4\u001b[0m \u001b[0mprint\u001b[0m\u001b[1;33m(\u001b[0m\u001b[1;34m'Root Mean squared error from neural net: '\u001b[0m\u001b[1;33m,\u001b[0m \u001b[0msqrt\u001b[0m\u001b[1;33m(\u001b[0m\u001b[0mmse_neural\u001b[0m\u001b[1;33m)\u001b[0m\u001b[1;33m)\u001b[0m\u001b[1;33m\u001b[0m\u001b[1;33m\u001b[0m\u001b[0m\n\u001b[0;32m      5\u001b[0m \u001b[0mprint\u001b[0m\u001b[1;33m(\u001b[0m\u001b[1;34m'Mean absolute error from neural net: '\u001b[0m\u001b[1;33m,\u001b[0m \u001b[0mmae_neural\u001b[0m\u001b[1;33m)\u001b[0m\u001b[1;33m\u001b[0m\u001b[1;33m\u001b[0m\u001b[0m\n",
      "\u001b[1;31mAttributeError\u001b[0m: 'RandomForestRegressor' object has no attribute 'evaluate'"
     ]
    }
   ],
   "source": [
    "#Comparison with other models..\n",
    "#Neural network - from the current code\n",
    "mse_neural, mae_neural = model.evaluate(X_test_scaled, ann_ytest)\n",
    "print('Root Mean squared error from neural net: ', sqrt(mse_neural))\n",
    "print('Mean absolute error from neural net: ', mae_neural)"
   ]
  },
  {
   "cell_type": "code",
   "execution_count": null,
   "id": "49573d12",
   "metadata": {},
   "outputs": [],
   "source": []
  },
  {
   "cell_type": "code",
   "execution_count": 33,
   "id": "ae466c65",
   "metadata": {},
   "outputs": [
    {
     "name": "stdout",
     "output_type": "stream",
     "text": [
      "Mean squared error from linear regression:  1.2973471996671648\n",
      "Mean absolute error from linear regression:  0.8678918853223664\n"
     ]
    }
   ],
   "source": [
    "######################################################################\n",
    "#Linear regression\n",
    "from sklearn import linear_model\n",
    "from sklearn.tree import DecisionTreeRegressor\n",
    "from sklearn.metrics import mean_squared_error, mean_absolute_error\n",
    "\n",
    "### Linear regression\n",
    "lr_model = linear_model.LinearRegression()\n",
    "lr_model.fit(X_train_scaled, ann_ytrain)\n",
    "y_pred_lr = lr_model.predict(X_test_scaled)\n",
    "mse_lr = mean_squared_error(ann_ytest, y_pred_lr)\n",
    "mae_lr = mean_absolute_error(ann_ytest, y_pred_lr)\n",
    "print('Mean squared error from linear regression: ', mse_lr)\n",
    "print('Mean absolute error from linear regression: ', mae_lr)"
   ]
  },
  {
   "cell_type": "code",
   "execution_count": 34,
   "id": "6dfd6264",
   "metadata": {},
   "outputs": [
    {
     "name": "stdout",
     "output_type": "stream",
     "text": [
      "Mean squared error using decision tree:  1.6063857694574628\n",
      "Mean absolute error using decision tree:  0.9500794552238807\n"
     ]
    }
   ],
   "source": [
    "############################################################\n",
    "### Decision tree\n",
    "tree = DecisionTreeRegressor()\n",
    "tree.fit(X_train_scaled, ann_ytrain)\n",
    "y_pred_tree = tree.predict(X_test_scaled)\n",
    "mse_dt = mean_squared_error(ann_ytest, y_pred_tree)\n",
    "mae_dt = mean_absolute_error(ann_ytest, y_pred_tree)\n",
    "print('Mean squared error using decision tree: ', mse_dt)\n",
    "print('Mean absolute error using decision tree: ', mae_dt)"
   ]
  },
  {
   "cell_type": "code",
   "execution_count": 35,
   "id": "bb1d5f44",
   "metadata": {},
   "outputs": [
    {
     "name": "stderr",
     "output_type": "stream",
     "text": [
      "<ipython-input-35-0acdf5c6bcfb>:6: DataConversionWarning: A column-vector y was passed when a 1d array was expected. Please change the shape of y to (n_samples,), for example using ravel().\n",
      "  model.fit(X_train_scaled, ann_ytrain)\n"
     ]
    },
    {
     "name": "stdout",
     "output_type": "stream",
     "text": [
      "Mean squared error using Random Forest:  0.7786696068137872\n",
      "Mean absolute error Using Random Forest:  0.6948609628871277\n"
     ]
    }
   ],
   "source": [
    "##############################################\n",
    "#Random forest.\n",
    "#Increase number of tress and see the effect\n",
    "from sklearn.ensemble import RandomForestRegressor\n",
    "model = RandomForestRegressor(n_estimators = 800, random_state=30)\n",
    "model.fit(X_train_scaled, ann_ytrain)\n",
    "\n",
    "y_pred_RF = model.predict(X_test_scaled)\n",
    "\n",
    "mse_RF = mean_squared_error(ann_ytest, y_pred_RF)\n",
    "mae_RF = mean_absolute_error(ann_ytest, y_pred_RF)\n",
    "print('Mean squared error using Random Forest: ', mse_RF)\n",
    "print('Mean absolute error Using Random Forest: ', mae_RF)"
   ]
  },
  {
   "cell_type": "code",
   "execution_count": 36,
   "id": "38c22325",
   "metadata": {},
   "outputs": [
    {
     "name": "stdout",
     "output_type": "stream",
     "text": [
      "volume         0.394062\n",
      "Most_neg       0.205314\n",
      "MW             0.077157\n",
      "SASA           0.060350\n",
      "Most_pos       0.055639\n",
      "Het_charges    0.042508\n",
      "G_sol          0.029816\n",
      "C_charges      0.029388\n",
      "O_charges      0.029048\n",
      "Lsolu_Hsolv    0.026980\n",
      "sol_dip        0.022317\n",
      "Lsolv_Hsolu    0.015897\n",
      "DeltaG_sol     0.011524\n",
      "dtype: float64\n"
     ]
    }
   ],
   "source": [
    "#Feature ranking...\n",
    "import pandas as pd\n",
    "feature_list = list(X.columns)\n",
    "feature_imp = pd.Series(model.feature_importances_, index=feature_list).sort_values(ascending=False)\n",
    "print(feature_imp)"
   ]
  },
  {
   "cell_type": "code",
   "execution_count": null,
   "id": "9a24676d",
   "metadata": {},
   "outputs": [],
   "source": []
  }
 ],
 "metadata": {
  "kernelspec": {
   "display_name": "Python 3",
   "language": "python",
   "name": "python3"
  },
  "language_info": {
   "codemirror_mode": {
    "name": "ipython",
    "version": 3
   },
   "file_extension": ".py",
   "mimetype": "text/x-python",
   "name": "python",
   "nbconvert_exporter": "python",
   "pygments_lexer": "ipython3",
   "version": "3.8.8"
  }
 },
 "nbformat": 4,
 "nbformat_minor": 5
}
